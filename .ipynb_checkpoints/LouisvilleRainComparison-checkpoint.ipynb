{
 "cells": [
  {
   "cell_type": "code",
   "execution_count": 127,
   "metadata": {},
   "outputs": [
    {
     "data": {
      "text/plain": [
       "<Figure size 600x340 with 0 Axes>"
      ]
     },
     "metadata": {},
     "output_type": "display_data"
    }
   ],
   "source": [
    "import os\n",
    "import csv\n",
    "import sqlite3\n",
    "import pandas as pd\n",
    "import matplotlib.pyplot as plt\n",
    "import numpy as np\n",
    "import statistics\n",
    "from scipy.stats import norm\n",
    "\n",
    "\n",
    "plt.figure(figsize = (7.5, 4.25))\n",
    "plt.style.use('classic')"
   ]
  },
  {
   "cell_type": "code",
   "execution_count": 68,
   "metadata": {},
   "outputs": [
    {
     "name": "stdout",
     "output_type": "stream",
     "text": [
      "C:\\Users\\rcsall11\\LouisvilleRain\n"
     ]
    }
   ],
   "source": [
    "directory = os.getcwd()\n",
    "print(directory)"
   ]
  },
  {
   "cell_type": "code",
   "execution_count": 69,
   "metadata": {},
   "outputs": [],
   "source": [
    "directory += \"\\RainSourceData\""
   ]
  },
  {
   "cell_type": "code",
   "execution_count": 70,
   "metadata": {},
   "outputs": [
    {
     "name": "stdout",
     "output_type": "stream",
     "text": [
      "C:\\Users\\rcsall11\\LouisvilleRain\\RainSourceData\n"
     ]
    }
   ],
   "source": [
    "print(directory)"
   ]
  },
  {
   "cell_type": "code",
   "execution_count": 71,
   "metadata": {},
   "outputs": [
    {
     "name": "stdout",
     "output_type": "stream",
     "text": [
      "C:\\Users\\rcsall11\\LouisvilleRain\\RainSourceData\\louisville_rain_data.csv\n"
     ]
    }
   ],
   "source": [
    "filename = directory + \"\\louisville_rain_data.csv\"\n",
    "print(filename)"
   ]
  },
  {
   "cell_type": "code",
   "execution_count": 72,
   "metadata": {},
   "outputs": [
    {
     "data": {
      "text/html": [
       "<div>\n",
       "<style scoped>\n",
       "    .dataframe tbody tr th:only-of-type {\n",
       "        vertical-align: middle;\n",
       "    }\n",
       "\n",
       "    .dataframe tbody tr th {\n",
       "        vertical-align: top;\n",
       "    }\n",
       "\n",
       "    .dataframe thead th {\n",
       "        text-align: right;\n",
       "    }\n",
       "</style>\n",
       "<table border=\"1\" class=\"dataframe\">\n",
       "  <thead>\n",
       "    <tr style=\"text-align: right;\">\n",
       "      <th></th>\n",
       "      <th>Year</th>\n",
       "      <th>Jan</th>\n",
       "      <th>Feb</th>\n",
       "      <th>Mar</th>\n",
       "      <th>Apr</th>\n",
       "      <th>May</th>\n",
       "      <th>Jun</th>\n",
       "      <th>Jul</th>\n",
       "      <th>Aug</th>\n",
       "      <th>Sep</th>\n",
       "      <th>Oct</th>\n",
       "      <th>Nov</th>\n",
       "      <th>Dec</th>\n",
       "    </tr>\n",
       "  </thead>\n",
       "  <tbody>\n",
       "    <tr>\n",
       "      <th>0</th>\n",
       "      <td>1872</td>\n",
       "      <td>M</td>\n",
       "      <td>M</td>\n",
       "      <td>M</td>\n",
       "      <td>M</td>\n",
       "      <td>M</td>\n",
       "      <td>M</td>\n",
       "      <td>M</td>\n",
       "      <td>2.45</td>\n",
       "      <td>4.38</td>\n",
       "      <td>3.92</td>\n",
       "      <td>0.56</td>\n",
       "      <td>2.35</td>\n",
       "    </tr>\n",
       "    <tr>\n",
       "      <th>1</th>\n",
       "      <td>1873</td>\n",
       "      <td>2.93</td>\n",
       "      <td>5.42</td>\n",
       "      <td>3.39</td>\n",
       "      <td>3.05</td>\n",
       "      <td>5.73</td>\n",
       "      <td>2.84</td>\n",
       "      <td>3.43</td>\n",
       "      <td>3.04</td>\n",
       "      <td>2.47</td>\n",
       "      <td>3.26</td>\n",
       "      <td>2.19</td>\n",
       "      <td>6.99</td>\n",
       "    </tr>\n",
       "    <tr>\n",
       "      <th>2</th>\n",
       "      <td>1874</td>\n",
       "      <td>2.39</td>\n",
       "      <td>5.18</td>\n",
       "      <td>6.63</td>\n",
       "      <td>6.01</td>\n",
       "      <td>1.14</td>\n",
       "      <td>2.95</td>\n",
       "      <td>2.83</td>\n",
       "      <td>3.23</td>\n",
       "      <td>0.62</td>\n",
       "      <td>2.04</td>\n",
       "      <td>5.90</td>\n",
       "      <td>4.77</td>\n",
       "    </tr>\n",
       "    <tr>\n",
       "      <th>3</th>\n",
       "      <td>1875</td>\n",
       "      <td>2.42</td>\n",
       "      <td>2.09</td>\n",
       "      <td>4.54</td>\n",
       "      <td>0.98</td>\n",
       "      <td>4.07</td>\n",
       "      <td>5.79</td>\n",
       "      <td>16.46</td>\n",
       "      <td>2.19</td>\n",
       "      <td>1.05</td>\n",
       "      <td>1.92</td>\n",
       "      <td>6.14</td>\n",
       "      <td>5.67</td>\n",
       "    </tr>\n",
       "    <tr>\n",
       "      <th>4</th>\n",
       "      <td>1876</td>\n",
       "      <td>11.63</td>\n",
       "      <td>2.92</td>\n",
       "      <td>6.01</td>\n",
       "      <td>4.5</td>\n",
       "      <td>1</td>\n",
       "      <td>6.52</td>\n",
       "      <td>3.61</td>\n",
       "      <td>4.29</td>\n",
       "      <td>2.66</td>\n",
       "      <td>7.61</td>\n",
       "      <td>1.63</td>\n",
       "      <td>1.24</td>\n",
       "    </tr>\n",
       "  </tbody>\n",
       "</table>\n",
       "</div>"
      ],
      "text/plain": [
       "   Year    Jan   Feb   Mar   Apr   May   Jun    Jul   Aug   Sep   Oct   Nov  \\\n",
       "0  1872      M     M     M     M     M     M      M  2.45  4.38  3.92  0.56   \n",
       "1  1873   2.93  5.42  3.39  3.05  5.73  2.84   3.43  3.04  2.47  3.26  2.19   \n",
       "2  1874   2.39  5.18  6.63  6.01  1.14  2.95   2.83  3.23  0.62  2.04  5.90   \n",
       "3  1875   2.42  2.09  4.54  0.98  4.07  5.79  16.46  2.19  1.05  1.92  6.14   \n",
       "4  1876  11.63  2.92  6.01   4.5     1  6.52   3.61  4.29  2.66  7.61  1.63   \n",
       "\n",
       "    Dec  \n",
       "0  2.35  \n",
       "1  6.99  \n",
       "2  4.77  \n",
       "3  5.67  \n",
       "4  1.24  "
      ]
     },
     "execution_count": 72,
     "metadata": {},
     "output_type": "execute_result"
    }
   ],
   "source": [
    "df_louisville = pd.read_csv(filename)\n",
    "df_louisville.head()"
   ]
  },
  {
   "cell_type": "code",
   "execution_count": 73,
   "metadata": {},
   "outputs": [],
   "source": [
    "df_louisville.to_sql(\"louisville_rain_table\", sqlite3.connect(\"louisville_rain.db\"), if_exists = \"replace\")\n",
    "db_lou = sqlite3.connect(\"louisville_rain.db\")"
   ]
  },
  {
   "cell_type": "code",
   "execution_count": 74,
   "metadata": {},
   "outputs": [
    {
     "data": {
      "text/html": [
       "<div>\n",
       "<style scoped>\n",
       "    .dataframe tbody tr th:only-of-type {\n",
       "        vertical-align: middle;\n",
       "    }\n",
       "\n",
       "    .dataframe tbody tr th {\n",
       "        vertical-align: top;\n",
       "    }\n",
       "\n",
       "    .dataframe thead th {\n",
       "        text-align: right;\n",
       "    }\n",
       "</style>\n",
       "<table border=\"1\" class=\"dataframe\">\n",
       "  <thead>\n",
       "    <tr style=\"text-align: right;\">\n",
       "      <th></th>\n",
       "      <th>Jan</th>\n",
       "      <th>Feb</th>\n",
       "      <th>Mar</th>\n",
       "      <th>Apr</th>\n",
       "      <th>May</th>\n",
       "      <th>Jun</th>\n",
       "      <th>Jul</th>\n",
       "      <th>Aug</th>\n",
       "      <th>Sep</th>\n",
       "      <th>Oct</th>\n",
       "      <th>Nov</th>\n",
       "      <th>Dec</th>\n",
       "      <th>Total</th>\n",
       "    </tr>\n",
       "    <tr>\n",
       "      <th>Year</th>\n",
       "      <th></th>\n",
       "      <th></th>\n",
       "      <th></th>\n",
       "      <th></th>\n",
       "      <th></th>\n",
       "      <th></th>\n",
       "      <th></th>\n",
       "      <th></th>\n",
       "      <th></th>\n",
       "      <th></th>\n",
       "      <th></th>\n",
       "      <th></th>\n",
       "      <th></th>\n",
       "    </tr>\n",
       "  </thead>\n",
       "  <tbody>\n",
       "    <tr>\n",
       "      <th>1872</th>\n",
       "      <td>M</td>\n",
       "      <td>M</td>\n",
       "      <td>M</td>\n",
       "      <td>M</td>\n",
       "      <td>M</td>\n",
       "      <td>M</td>\n",
       "      <td>M</td>\n",
       "      <td>2.45</td>\n",
       "      <td>4.38</td>\n",
       "      <td>3.92</td>\n",
       "      <td>0.56</td>\n",
       "      <td>2.35</td>\n",
       "      <td>9.74</td>\n",
       "    </tr>\n",
       "    <tr>\n",
       "      <th>1873</th>\n",
       "      <td>2.93</td>\n",
       "      <td>5.42</td>\n",
       "      <td>3.39</td>\n",
       "      <td>3.05</td>\n",
       "      <td>5.73</td>\n",
       "      <td>2.84</td>\n",
       "      <td>3.43</td>\n",
       "      <td>3.04</td>\n",
       "      <td>2.47</td>\n",
       "      <td>3.26</td>\n",
       "      <td>2.19</td>\n",
       "      <td>6.99</td>\n",
       "      <td>41.48</td>\n",
       "    </tr>\n",
       "    <tr>\n",
       "      <th>1874</th>\n",
       "      <td>2.39</td>\n",
       "      <td>5.18</td>\n",
       "      <td>6.63</td>\n",
       "      <td>6.01</td>\n",
       "      <td>1.14</td>\n",
       "      <td>2.95</td>\n",
       "      <td>2.83</td>\n",
       "      <td>3.23</td>\n",
       "      <td>0.62</td>\n",
       "      <td>2.04</td>\n",
       "      <td>5.90</td>\n",
       "      <td>4.77</td>\n",
       "      <td>41.65</td>\n",
       "    </tr>\n",
       "    <tr>\n",
       "      <th>1875</th>\n",
       "      <td>2.42</td>\n",
       "      <td>2.09</td>\n",
       "      <td>4.54</td>\n",
       "      <td>0.98</td>\n",
       "      <td>4.07</td>\n",
       "      <td>5.79</td>\n",
       "      <td>16.46</td>\n",
       "      <td>2.19</td>\n",
       "      <td>1.05</td>\n",
       "      <td>1.92</td>\n",
       "      <td>6.14</td>\n",
       "      <td>5.67</td>\n",
       "      <td>51.40</td>\n",
       "    </tr>\n",
       "    <tr>\n",
       "      <th>1876</th>\n",
       "      <td>11.63</td>\n",
       "      <td>2.92</td>\n",
       "      <td>6.01</td>\n",
       "      <td>4.5</td>\n",
       "      <td>1</td>\n",
       "      <td>6.52</td>\n",
       "      <td>3.61</td>\n",
       "      <td>4.29</td>\n",
       "      <td>2.66</td>\n",
       "      <td>7.61</td>\n",
       "      <td>1.63</td>\n",
       "      <td>1.24</td>\n",
       "      <td>46.01</td>\n",
       "    </tr>\n",
       "  </tbody>\n",
       "</table>\n",
       "</div>"
      ],
      "text/plain": [
       "        Jan   Feb   Mar   Apr   May   Jun    Jul   Aug   Sep   Oct   Nov  \\\n",
       "Year                                                                       \n",
       "1872      M     M     M     M     M     M      M  2.45  4.38  3.92  0.56   \n",
       "1873   2.93  5.42  3.39  3.05  5.73  2.84   3.43  3.04  2.47  3.26  2.19   \n",
       "1874   2.39  5.18  6.63  6.01  1.14  2.95   2.83  3.23  0.62  2.04  5.90   \n",
       "1875   2.42  2.09  4.54  0.98  4.07  5.79  16.46  2.19  1.05  1.92  6.14   \n",
       "1876  11.63  2.92  6.01   4.5     1  6.52   3.61  4.29  2.66  7.61  1.63   \n",
       "\n",
       "       Dec  Total  \n",
       "Year               \n",
       "1872  2.35   9.74  \n",
       "1873  6.99  41.48  \n",
       "1874  4.77  41.65  \n",
       "1875  5.67  51.40  \n",
       "1876  1.24  46.01  "
      ]
     },
     "execution_count": 74,
     "metadata": {},
     "output_type": "execute_result"
    }
   ],
   "source": [
    "lou_sum_query =\"\"\"\n",
    "                SELECT Year, Jan, Feb, Mar, Apr, May, Jun, Jul, Aug, Sep, Oct, Nov, Dec, SUM(Jan + Feb + Mar + Apr + May + Jun + Jul + Aug + Sep + Nov + Dec)  AS Total\n",
    "                FROM louisville_rain_table\n",
    "                GROUP BY Year\n",
    "                \"\"\"\n",
    "\n",
    "df_louisville = pd.read_sql_query(lou_sum_query, db_lou)\n",
    "df_louisville.set_index('Year', inplace = True)\n",
    "df_louisville.head()"
   ]
  },
  {
   "cell_type": "code",
   "execution_count": 75,
   "metadata": {},
   "outputs": [
    {
     "data": {
      "text/plain": [
       "Jan       object\n",
       "Feb       object\n",
       "Mar       object\n",
       "Apr       object\n",
       "May       object\n",
       "Jun       object\n",
       "Jul       object\n",
       "Aug      float64\n",
       "Sep      float64\n",
       "Oct      float64\n",
       "Nov      float64\n",
       "Dec      float64\n",
       "Total    float64\n",
       "dtype: object"
      ]
     },
     "execution_count": 75,
     "metadata": {},
     "output_type": "execute_result"
    }
   ],
   "source": [
    "df_louisville.dtypes"
   ]
  },
  {
   "cell_type": "code",
   "execution_count": 76,
   "metadata": {},
   "outputs": [
    {
     "data": {
      "text/plain": [
       "Jan      float32\n",
       "Feb      float32\n",
       "Mar      float32\n",
       "Apr      float32\n",
       "May      float32\n",
       "Jun      float32\n",
       "Jul      float32\n",
       "Aug      float32\n",
       "Sep      float32\n",
       "Oct      float32\n",
       "Nov      float32\n",
       "Dec      float32\n",
       "Total    float32\n",
       "dtype: object"
      ]
     },
     "execution_count": 76,
     "metadata": {},
     "output_type": "execute_result"
    }
   ],
   "source": [
    "df_louisville = df_louisville.apply(pd.to_numeric, downcast =\"float\", errors=\"coerce\")\n",
    "df_louisville.dtypes"
   ]
  },
  {
   "cell_type": "code",
   "execution_count": 77,
   "metadata": {},
   "outputs": [
    {
     "data": {
      "text/html": [
       "<div>\n",
       "<style scoped>\n",
       "    .dataframe tbody tr th:only-of-type {\n",
       "        vertical-align: middle;\n",
       "    }\n",
       "\n",
       "    .dataframe tbody tr th {\n",
       "        vertical-align: top;\n",
       "    }\n",
       "\n",
       "    .dataframe thead th {\n",
       "        text-align: right;\n",
       "    }\n",
       "</style>\n",
       "<table border=\"1\" class=\"dataframe\">\n",
       "  <thead>\n",
       "    <tr style=\"text-align: right;\">\n",
       "      <th></th>\n",
       "      <th>Jan</th>\n",
       "      <th>Feb</th>\n",
       "      <th>Mar</th>\n",
       "      <th>Apr</th>\n",
       "      <th>May</th>\n",
       "      <th>Jun</th>\n",
       "      <th>Jul</th>\n",
       "      <th>Aug</th>\n",
       "      <th>Sep</th>\n",
       "      <th>Oct</th>\n",
       "      <th>Nov</th>\n",
       "      <th>Dec</th>\n",
       "      <th>Total</th>\n",
       "    </tr>\n",
       "    <tr>\n",
       "      <th>Year</th>\n",
       "      <th></th>\n",
       "      <th></th>\n",
       "      <th></th>\n",
       "      <th></th>\n",
       "      <th></th>\n",
       "      <th></th>\n",
       "      <th></th>\n",
       "      <th></th>\n",
       "      <th></th>\n",
       "      <th></th>\n",
       "      <th></th>\n",
       "      <th></th>\n",
       "      <th></th>\n",
       "    </tr>\n",
       "  </thead>\n",
       "  <tbody>\n",
       "    <tr>\n",
       "      <th>1872</th>\n",
       "      <td>NaN</td>\n",
       "      <td>NaN</td>\n",
       "      <td>NaN</td>\n",
       "      <td>NaN</td>\n",
       "      <td>NaN</td>\n",
       "      <td>NaN</td>\n",
       "      <td>NaN</td>\n",
       "      <td>2.45</td>\n",
       "      <td>4.38</td>\n",
       "      <td>3.92</td>\n",
       "      <td>0.56</td>\n",
       "      <td>2.35</td>\n",
       "      <td>9.740000</td>\n",
       "    </tr>\n",
       "    <tr>\n",
       "      <th>1873</th>\n",
       "      <td>2.93</td>\n",
       "      <td>5.42</td>\n",
       "      <td>3.39</td>\n",
       "      <td>3.05</td>\n",
       "      <td>5.73</td>\n",
       "      <td>2.84</td>\n",
       "      <td>3.430000</td>\n",
       "      <td>3.04</td>\n",
       "      <td>2.47</td>\n",
       "      <td>3.26</td>\n",
       "      <td>2.19</td>\n",
       "      <td>6.99</td>\n",
       "      <td>41.480000</td>\n",
       "    </tr>\n",
       "    <tr>\n",
       "      <th>1874</th>\n",
       "      <td>2.39</td>\n",
       "      <td>5.18</td>\n",
       "      <td>6.63</td>\n",
       "      <td>6.01</td>\n",
       "      <td>1.14</td>\n",
       "      <td>2.95</td>\n",
       "      <td>2.830000</td>\n",
       "      <td>3.23</td>\n",
       "      <td>0.62</td>\n",
       "      <td>2.04</td>\n",
       "      <td>5.90</td>\n",
       "      <td>4.77</td>\n",
       "      <td>41.650002</td>\n",
       "    </tr>\n",
       "    <tr>\n",
       "      <th>1875</th>\n",
       "      <td>2.42</td>\n",
       "      <td>2.09</td>\n",
       "      <td>4.54</td>\n",
       "      <td>0.98</td>\n",
       "      <td>4.07</td>\n",
       "      <td>5.79</td>\n",
       "      <td>16.459999</td>\n",
       "      <td>2.19</td>\n",
       "      <td>1.05</td>\n",
       "      <td>1.92</td>\n",
       "      <td>6.14</td>\n",
       "      <td>5.67</td>\n",
       "      <td>51.400002</td>\n",
       "    </tr>\n",
       "    <tr>\n",
       "      <th>1876</th>\n",
       "      <td>11.63</td>\n",
       "      <td>2.92</td>\n",
       "      <td>6.01</td>\n",
       "      <td>4.50</td>\n",
       "      <td>1.00</td>\n",
       "      <td>6.52</td>\n",
       "      <td>3.610000</td>\n",
       "      <td>4.29</td>\n",
       "      <td>2.66</td>\n",
       "      <td>7.61</td>\n",
       "      <td>1.63</td>\n",
       "      <td>1.24</td>\n",
       "      <td>46.009998</td>\n",
       "    </tr>\n",
       "  </tbody>\n",
       "</table>\n",
       "</div>"
      ],
      "text/plain": [
       "        Jan   Feb   Mar   Apr   May   Jun        Jul   Aug   Sep   Oct   Nov  \\\n",
       "Year                                                                           \n",
       "1872    NaN   NaN   NaN   NaN   NaN   NaN        NaN  2.45  4.38  3.92  0.56   \n",
       "1873   2.93  5.42  3.39  3.05  5.73  2.84   3.430000  3.04  2.47  3.26  2.19   \n",
       "1874   2.39  5.18  6.63  6.01  1.14  2.95   2.830000  3.23  0.62  2.04  5.90   \n",
       "1875   2.42  2.09  4.54  0.98  4.07  5.79  16.459999  2.19  1.05  1.92  6.14   \n",
       "1876  11.63  2.92  6.01  4.50  1.00  6.52   3.610000  4.29  2.66  7.61  1.63   \n",
       "\n",
       "       Dec      Total  \n",
       "Year                   \n",
       "1872  2.35   9.740000  \n",
       "1873  6.99  41.480000  \n",
       "1874  4.77  41.650002  \n",
       "1875  5.67  51.400002  \n",
       "1876  1.24  46.009998  "
      ]
     },
     "execution_count": 77,
     "metadata": {},
     "output_type": "execute_result"
    }
   ],
   "source": [
    "df_louisville.head()"
   ]
  },
  {
   "cell_type": "code",
   "execution_count": 78,
   "metadata": {},
   "outputs": [
    {
     "data": {
      "text/html": [
       "<div>\n",
       "<style scoped>\n",
       "    .dataframe tbody tr th:only-of-type {\n",
       "        vertical-align: middle;\n",
       "    }\n",
       "\n",
       "    .dataframe tbody tr th {\n",
       "        vertical-align: top;\n",
       "    }\n",
       "\n",
       "    .dataframe thead th {\n",
       "        text-align: right;\n",
       "    }\n",
       "</style>\n",
       "<table border=\"1\" class=\"dataframe\">\n",
       "  <thead>\n",
       "    <tr style=\"text-align: right;\">\n",
       "      <th></th>\n",
       "      <th>Jan</th>\n",
       "      <th>Feb</th>\n",
       "      <th>Mar</th>\n",
       "      <th>Apr</th>\n",
       "      <th>May</th>\n",
       "      <th>Jun</th>\n",
       "      <th>Jul</th>\n",
       "      <th>Aug</th>\n",
       "      <th>Sep</th>\n",
       "      <th>Oct</th>\n",
       "      <th>Nov</th>\n",
       "      <th>Dec</th>\n",
       "      <th>Total</th>\n",
       "    </tr>\n",
       "    <tr>\n",
       "      <th>Year</th>\n",
       "      <th></th>\n",
       "      <th></th>\n",
       "      <th></th>\n",
       "      <th></th>\n",
       "      <th></th>\n",
       "      <th></th>\n",
       "      <th></th>\n",
       "      <th></th>\n",
       "      <th></th>\n",
       "      <th></th>\n",
       "      <th></th>\n",
       "      <th></th>\n",
       "      <th></th>\n",
       "    </tr>\n",
       "  </thead>\n",
       "  <tbody>\n",
       "    <tr>\n",
       "      <th>2015</th>\n",
       "      <td>0.870000</td>\n",
       "      <td>2.230000</td>\n",
       "      <td>7.800000</td>\n",
       "      <td>10.840000</td>\n",
       "      <td>2.380000</td>\n",
       "      <td>6.820000</td>\n",
       "      <td>8.650000</td>\n",
       "      <td>3.470000</td>\n",
       "      <td>2.450000</td>\n",
       "      <td>4.850000</td>\n",
       "      <td>5.470</td>\n",
       "      <td>6.580000</td>\n",
       "      <td>57.560001</td>\n",
       "    </tr>\n",
       "    <tr>\n",
       "      <th>2016</th>\n",
       "      <td>1.010000</td>\n",
       "      <td>4.810000</td>\n",
       "      <td>5.500000</td>\n",
       "      <td>3.180000</td>\n",
       "      <td>4.560000</td>\n",
       "      <td>4.250000</td>\n",
       "      <td>4.650000</td>\n",
       "      <td>5.710000</td>\n",
       "      <td>2.280000</td>\n",
       "      <td>0.650000</td>\n",
       "      <td>1.650</td>\n",
       "      <td>5.300000</td>\n",
       "      <td>42.900002</td>\n",
       "    </tr>\n",
       "    <tr>\n",
       "      <th>2017</th>\n",
       "      <td>4.210000</td>\n",
       "      <td>2.060000</td>\n",
       "      <td>3.680000</td>\n",
       "      <td>4.470000</td>\n",
       "      <td>4.740000</td>\n",
       "      <td>3.260000</td>\n",
       "      <td>2.790000</td>\n",
       "      <td>4.200000</td>\n",
       "      <td>5.470000</td>\n",
       "      <td>4.890000</td>\n",
       "      <td>2.060</td>\n",
       "      <td>2.730000</td>\n",
       "      <td>39.669998</td>\n",
       "    </tr>\n",
       "    <tr>\n",
       "      <th>2018</th>\n",
       "      <td>1.760000</td>\n",
       "      <td>10.540000</td>\n",
       "      <td>5.050000</td>\n",
       "      <td>3.400000</td>\n",
       "      <td>4.980000</td>\n",
       "      <td>6.380000</td>\n",
       "      <td>5.130000</td>\n",
       "      <td>7.230000</td>\n",
       "      <td>10.910000</td>\n",
       "      <td>2.790000</td>\n",
       "      <td>4.760</td>\n",
       "      <td>5.900000</td>\n",
       "      <td>66.040001</td>\n",
       "    </tr>\n",
       "    <tr>\n",
       "      <th>Mean</th>\n",
       "      <td>3.723724</td>\n",
       "      <td>3.371448</td>\n",
       "      <td>4.574482</td>\n",
       "      <td>4.129103</td>\n",
       "      <td>4.264689</td>\n",
       "      <td>3.930138</td>\n",
       "      <td>3.910344</td>\n",
       "      <td>3.359104</td>\n",
       "      <td>2.997242</td>\n",
       "      <td>2.826552</td>\n",
       "      <td>3.522</td>\n",
       "      <td>3.764207</td>\n",
       "      <td>41.546482</td>\n",
       "    </tr>\n",
       "  </tbody>\n",
       "</table>\n",
       "</div>"
      ],
      "text/plain": [
       "           Jan        Feb       Mar        Apr       May       Jun       Jul  \\\n",
       "Year                                                                           \n",
       "2015  0.870000   2.230000  7.800000  10.840000  2.380000  6.820000  8.650000   \n",
       "2016  1.010000   4.810000  5.500000   3.180000  4.560000  4.250000  4.650000   \n",
       "2017  4.210000   2.060000  3.680000   4.470000  4.740000  3.260000  2.790000   \n",
       "2018  1.760000  10.540000  5.050000   3.400000  4.980000  6.380000  5.130000   \n",
       "Mean  3.723724   3.371448  4.574482   4.129103  4.264689  3.930138  3.910344   \n",
       "\n",
       "           Aug        Sep       Oct    Nov       Dec      Total  \n",
       "Year                                                             \n",
       "2015  3.470000   2.450000  4.850000  5.470  6.580000  57.560001  \n",
       "2016  5.710000   2.280000  0.650000  1.650  5.300000  42.900002  \n",
       "2017  4.200000   5.470000  4.890000  2.060  2.730000  39.669998  \n",
       "2018  7.230000  10.910000  2.790000  4.760  5.900000  66.040001  \n",
       "Mean  3.359104   2.997242  2.826552  3.522  3.764207  41.546482  "
      ]
     },
     "execution_count": 78,
     "metadata": {},
     "output_type": "execute_result"
    }
   ],
   "source": [
    "df_louisville.dropna(inplace = True)\n",
    "df_louisville.loc['Mean'] = df_louisville.mean(axis =0)\n",
    "df_louisville.tail()"
   ]
  },
  {
   "cell_type": "code",
   "execution_count": 115,
   "metadata": {},
   "outputs": [
    {
     "data": {
      "text/plain": [
       "41.54648208618164"
      ]
     },
     "execution_count": 115,
     "metadata": {},
     "output_type": "execute_result"
    }
   ],
   "source": [
    "louisvilleMeanList = []\n",
    "louisvilleMeanList = df_louisville['Total'].tolist()\n",
    "louisvilleMeanList.pop()"
   ]
  },
  {
   "cell_type": "code",
   "execution_count": 119,
   "metadata": {},
   "outputs": [
    {
     "data": {
      "text/plain": [
       "41.546482730733935"
      ]
     },
     "execution_count": 119,
     "metadata": {},
     "output_type": "execute_result"
    }
   ],
   "source": [
    "statistics.mean(louisvilleMeanList)"
   ]
  },
  {
   "cell_type": "code",
   "execution_count": 118,
   "metadata": {},
   "outputs": [
    {
     "data": {
      "text/plain": [
       "7.892217065062169"
      ]
     },
     "execution_count": 118,
     "metadata": {},
     "output_type": "execute_result"
    }
   ],
   "source": [
    "statistics.stdev(louisvilleMeanList)"
   ]
  },
  {
   "cell_type": "code",
   "execution_count": 129,
   "metadata": {},
   "outputs": [],
   "source": []
  },
  {
   "cell_type": "code",
   "execution_count": 137,
   "metadata": {},
   "outputs": [
    {
     "data": {
      "image/png": "[encoded data removed]",
      "text/plain": [
       "<Figure size 640x480 with 1 Axes>"
      ]
     },
     "metadata": {},
     "output_type": "display_data"
    }
   ],
   "source": [
    "#plt.subplot(2, 1, 1)\n",
    "plt.hist(louisvilleMeanList, 'auto', density = 'True')\n",
    "plt.title(\"Distribution of Louisville Rainfall Totals\", fontsize = 14)\n",
    "plt.xlabel(\"Rainfall (in)\", fontsize = 10)\n",
    "plt.ylabel(\"Frequency\", fontsize = 10)\n",
    "\n",
    "mu, std = norm.fit(louisvilleMeanList)\n",
    "\n",
    "xmin, xmax = plt.xlim()\n",
    "x = np.linspace(xmin, xmax, 100)\n",
    "p = norm.pdf(x, mu, std)\n",
    "plt.plot(x, p, 'k', linewidth=2)\n",
    "\n",
    "\n",
    "plt.show()"
   ]
  },
  {
   "cell_type": "code",
   "execution_count": null,
   "metadata": {},
   "outputs": [],
   "source": []
  }
 ],
 "metadata": {
  "kernelspec": {
   "display_name": "Python 3",
   "language": "python",
   "name": "python3"
  },
  "language_info": {
   "codemirror_mode": {
    "name": "ipython",
    "version": 3
   },
   "file_extension": ".py",
   "mimetype": "text/x-python",
   "name": "python",
   "nbconvert_exporter": "python",
   "pygments_lexer": "ipython3",
   "version": "3.7.1"
  }
 },
 "nbformat": 4,
 "nbformat_minor": 2
}
