{
 "cells": [
  {
   "cell_type": "markdown",
   "metadata": {},
   "source": [
    "<h1> Was 2018 an Exceptional Year for Louisville's Rainfall?  <h1>"
   ]
  },
  {
   "cell_type": "markdown",
   "metadata": {},
   "source": [
    "2018 was a record year for Louisville with over 66 inches of rainfall. Was this record year statistically exceptional?\n",
    "\n",
    "We will analyze all recorded rainfall (1872-present) for Louisville, KY ([source](https://w2.weather.gov/climate/xmacis.php?wfo=lmk)) that is stored in CSV format with this project."
   ]
  },
  {
   "cell_type": "markdown",
   "metadata": {},
   "source": [
    "In the first few cells, we will do all of the set up needed to import the Louisville Rain CSV and perform our analysis."
   ]
  },
  {
   "cell_type": "code",
   "execution_count": 761,
   "metadata": {},
   "outputs": [
    {
     "data": {
      "text/plain": [
       "<Figure size 1600x800 with 0 Axes>"
      ]
     },
     "metadata": {},
     "output_type": "display_data"
    }
   ],
   "source": [
    "# Import all dependecies needed.\n",
    "\n",
    "import os\n",
    "import csv\n",
    "import sqlite3\n",
    "import pandas as pd\n",
    "import matplotlib.pyplot as plt\n",
    "import numpy as np\n",
    "import statistics\n",
    "import scipy.stats\n",
    "\n",
    "plt.figure(figsize = (20, 10))\n",
    "plt.style.use('classic');"
   ]
  },
  {
   "cell_type": "code",
   "execution_count": 762,
   "metadata": {},
   "outputs": [
    {
     "name": "stdout",
     "output_type": "stream",
     "text": [
      "C:\\Users\\rcsall11\\LouisvilleRain\n"
     ]
    }
   ],
   "source": [
    "# Get the current working directory via os.getcwd() so that it is relative and assign it to the directory variable.\n",
    "\n",
    "directory = os.getcwd()\n",
    "print(directory)"
   ]
  },
  {
   "cell_type": "code",
   "execution_count": 763,
   "metadata": {},
   "outputs": [
    {
     "name": "stdout",
     "output_type": "stream",
     "text": [
      "C:\\Users\\rcsall11\\LouisvilleRain\\RainSourceData\n"
     ]
    }
   ],
   "source": [
    "# Since the rainfall data is stored in the \\RainSourceData subdirectory we will add it to the directory variable.\n",
    "\n",
    "directory += \"\\RainSourceData\"\n",
    "print(directory)"
   ]
  },
  {
   "cell_type": "code",
   "execution_count": 764,
   "metadata": {},
   "outputs": [
    {
     "name": "stdout",
     "output_type": "stream",
     "text": [
      "C:\\Users\\rcsall11\\LouisvilleRain\\RainSourceData\\louisville_rain_data.csv\n"
     ]
    }
   ],
   "source": [
    "# The rainfalldata is stored in \"louisville_rain_data.csv\" and we will assign the directory variable plus the name of the CSV \n",
    "# to a new variable, filename.\n",
    "\n",
    "filename = directory + \"\\louisville_rain_data.csv\"\n",
    "print(filename)"
   ]
  },
  {
   "cell_type": "code",
   "execution_count": 765,
   "metadata": {},
   "outputs": [
    {
     "data": {
      "text/html": [
       "<div>\n",
       "<style scoped>\n",
       "    .dataframe tbody tr th:only-of-type {\n",
       "        vertical-align: middle;\n",
       "    }\n",
       "\n",
       "    .dataframe tbody tr th {\n",
       "        vertical-align: top;\n",
       "    }\n",
       "\n",
       "    .dataframe thead th {\n",
       "        text-align: right;\n",
       "    }\n",
       "</style>\n",
       "<table border=\"1\" class=\"dataframe\">\n",
       "  <thead>\n",
       "    <tr style=\"text-align: right;\">\n",
       "      <th></th>\n",
       "      <th>Year</th>\n",
       "      <th>Jan</th>\n",
       "      <th>Feb</th>\n",
       "      <th>Mar</th>\n",
       "      <th>Apr</th>\n",
       "      <th>May</th>\n",
       "      <th>Jun</th>\n",
       "      <th>Jul</th>\n",
       "      <th>Aug</th>\n",
       "      <th>Sep</th>\n",
       "      <th>Oct</th>\n",
       "      <th>Nov</th>\n",
       "      <th>Dec</th>\n",
       "    </tr>\n",
       "  </thead>\n",
       "  <tbody>\n",
       "    <tr>\n",
       "      <th>0</th>\n",
       "      <td>1872</td>\n",
       "      <td>M</td>\n",
       "      <td>M</td>\n",
       "      <td>M</td>\n",
       "      <td>M</td>\n",
       "      <td>M</td>\n",
       "      <td>M</td>\n",
       "      <td>M</td>\n",
       "      <td>2.45</td>\n",
       "      <td>4.38</td>\n",
       "      <td>3.92</td>\n",
       "      <td>0.56</td>\n",
       "      <td>2.35</td>\n",
       "    </tr>\n",
       "    <tr>\n",
       "      <th>1</th>\n",
       "      <td>1873</td>\n",
       "      <td>2.93</td>\n",
       "      <td>5.42</td>\n",
       "      <td>3.39</td>\n",
       "      <td>3.05</td>\n",
       "      <td>5.73</td>\n",
       "      <td>2.84</td>\n",
       "      <td>3.43</td>\n",
       "      <td>3.04</td>\n",
       "      <td>2.47</td>\n",
       "      <td>3.26</td>\n",
       "      <td>2.19</td>\n",
       "      <td>6.99</td>\n",
       "    </tr>\n",
       "    <tr>\n",
       "      <th>2</th>\n",
       "      <td>1874</td>\n",
       "      <td>2.39</td>\n",
       "      <td>5.18</td>\n",
       "      <td>6.63</td>\n",
       "      <td>6.01</td>\n",
       "      <td>1.14</td>\n",
       "      <td>2.95</td>\n",
       "      <td>2.83</td>\n",
       "      <td>3.23</td>\n",
       "      <td>0.62</td>\n",
       "      <td>2.04</td>\n",
       "      <td>5.90</td>\n",
       "      <td>4.77</td>\n",
       "    </tr>\n",
       "    <tr>\n",
       "      <th>3</th>\n",
       "      <td>1875</td>\n",
       "      <td>2.42</td>\n",
       "      <td>2.09</td>\n",
       "      <td>4.54</td>\n",
       "      <td>0.98</td>\n",
       "      <td>4.07</td>\n",
       "      <td>5.79</td>\n",
       "      <td>16.46</td>\n",
       "      <td>2.19</td>\n",
       "      <td>1.05</td>\n",
       "      <td>1.92</td>\n",
       "      <td>6.14</td>\n",
       "      <td>5.67</td>\n",
       "    </tr>\n",
       "    <tr>\n",
       "      <th>4</th>\n",
       "      <td>1876</td>\n",
       "      <td>11.63</td>\n",
       "      <td>2.92</td>\n",
       "      <td>6.01</td>\n",
       "      <td>4.5</td>\n",
       "      <td>1</td>\n",
       "      <td>6.52</td>\n",
       "      <td>3.61</td>\n",
       "      <td>4.29</td>\n",
       "      <td>2.66</td>\n",
       "      <td>7.61</td>\n",
       "      <td>1.63</td>\n",
       "      <td>1.24</td>\n",
       "    </tr>\n",
       "  </tbody>\n",
       "</table>\n",
       "</div>"
      ],
      "text/plain": [
       "   Year    Jan   Feb   Mar   Apr   May   Jun    Jul   Aug   Sep   Oct   Nov  \\\n",
       "0  1872      M     M     M     M     M     M      M  2.45  4.38  3.92  0.56   \n",
       "1  1873   2.93  5.42  3.39  3.05  5.73  2.84   3.43  3.04  2.47  3.26  2.19   \n",
       "2  1874   2.39  5.18  6.63  6.01  1.14  2.95   2.83  3.23  0.62  2.04  5.90   \n",
       "3  1875   2.42  2.09  4.54  0.98  4.07  5.79  16.46  2.19  1.05  1.92  6.14   \n",
       "4  1876  11.63  2.92  6.01   4.5     1  6.52   3.61  4.29  2.66  7.61  1.63   \n",
       "\n",
       "    Dec  \n",
       "0  2.35  \n",
       "1  6.99  \n",
       "2  4.77  \n",
       "3  5.67  \n",
       "4  1.24  "
      ]
     },
     "execution_count": 765,
     "metadata": {},
     "output_type": "execute_result"
    }
   ],
   "source": [
    "# Now the rainfall data, in CSV format, can be read using read_csv() from pandas and converted to a dataframe, df_louisville.\n",
    "\n",
    "df_louisville = pd.read_csv(filename)\n",
    "df_louisville.head()"
   ]
  },
  {
   "cell_type": "code",
   "execution_count": 766,
   "metadata": {},
   "outputs": [],
   "source": [
    "# Convert df_louisville to a sql table and establish a connection.\n",
    "\n",
    "df_louisville.to_sql(\"louisville_rain_table\", sqlite3.connect(\"louisville_rain.db\"), if_exists = \"replace\")\n",
    "db_lou = sqlite3.connect(\"louisville_rain.db\")"
   ]
  },
  {
   "cell_type": "markdown",
   "metadata": {},
   "source": [
    "With our CSV converted to a dataframe and then converted to a sql table. In the representation of the dataframe two cells above, there is not a column that shows the total rainfall. Below, a sql query is executed on the louisville_rain_table to get the sum of all of the month columns and create a new column \"Total\" displaying the results of SUM function. Afterwards, the table is converted to a pandas dataframe, and the index of the dataframe is set to the Year column to make any further lookups of data easier for our coming analysis."
   ]
  },
  {
   "cell_type": "code",
   "execution_count": 767,
   "metadata": {},
   "outputs": [
    {
     "data": {
      "text/html": [
       "<div>\n",
       "<style scoped>\n",
       "    .dataframe tbody tr th:only-of-type {\n",
       "        vertical-align: middle;\n",
       "    }\n",
       "\n",
       "    .dataframe tbody tr th {\n",
       "        vertical-align: top;\n",
       "    }\n",
       "\n",
       "    .dataframe thead th {\n",
       "        text-align: right;\n",
       "    }\n",
       "</style>\n",
       "<table border=\"1\" class=\"dataframe\">\n",
       "  <thead>\n",
       "    <tr style=\"text-align: right;\">\n",
       "      <th></th>\n",
       "      <th>Jan</th>\n",
       "      <th>Feb</th>\n",
       "      <th>Mar</th>\n",
       "      <th>Apr</th>\n",
       "      <th>May</th>\n",
       "      <th>Jun</th>\n",
       "      <th>Jul</th>\n",
       "      <th>Aug</th>\n",
       "      <th>Sep</th>\n",
       "      <th>Oct</th>\n",
       "      <th>Nov</th>\n",
       "      <th>Dec</th>\n",
       "      <th>Total</th>\n",
       "    </tr>\n",
       "    <tr>\n",
       "      <th>Year</th>\n",
       "      <th></th>\n",
       "      <th></th>\n",
       "      <th></th>\n",
       "      <th></th>\n",
       "      <th></th>\n",
       "      <th></th>\n",
       "      <th></th>\n",
       "      <th></th>\n",
       "      <th></th>\n",
       "      <th></th>\n",
       "      <th></th>\n",
       "      <th></th>\n",
       "      <th></th>\n",
       "    </tr>\n",
       "  </thead>\n",
       "  <tbody>\n",
       "    <tr>\n",
       "      <th>1872</th>\n",
       "      <td>M</td>\n",
       "      <td>M</td>\n",
       "      <td>M</td>\n",
       "      <td>M</td>\n",
       "      <td>M</td>\n",
       "      <td>M</td>\n",
       "      <td>M</td>\n",
       "      <td>2.45</td>\n",
       "      <td>4.38</td>\n",
       "      <td>3.92</td>\n",
       "      <td>0.56</td>\n",
       "      <td>2.35</td>\n",
       "      <td>9.74</td>\n",
       "    </tr>\n",
       "    <tr>\n",
       "      <th>1873</th>\n",
       "      <td>2.93</td>\n",
       "      <td>5.42</td>\n",
       "      <td>3.39</td>\n",
       "      <td>3.05</td>\n",
       "      <td>5.73</td>\n",
       "      <td>2.84</td>\n",
       "      <td>3.43</td>\n",
       "      <td>3.04</td>\n",
       "      <td>2.47</td>\n",
       "      <td>3.26</td>\n",
       "      <td>2.19</td>\n",
       "      <td>6.99</td>\n",
       "      <td>41.48</td>\n",
       "    </tr>\n",
       "    <tr>\n",
       "      <th>1874</th>\n",
       "      <td>2.39</td>\n",
       "      <td>5.18</td>\n",
       "      <td>6.63</td>\n",
       "      <td>6.01</td>\n",
       "      <td>1.14</td>\n",
       "      <td>2.95</td>\n",
       "      <td>2.83</td>\n",
       "      <td>3.23</td>\n",
       "      <td>0.62</td>\n",
       "      <td>2.04</td>\n",
       "      <td>5.90</td>\n",
       "      <td>4.77</td>\n",
       "      <td>41.65</td>\n",
       "    </tr>\n",
       "    <tr>\n",
       "      <th>1875</th>\n",
       "      <td>2.42</td>\n",
       "      <td>2.09</td>\n",
       "      <td>4.54</td>\n",
       "      <td>0.98</td>\n",
       "      <td>4.07</td>\n",
       "      <td>5.79</td>\n",
       "      <td>16.46</td>\n",
       "      <td>2.19</td>\n",
       "      <td>1.05</td>\n",
       "      <td>1.92</td>\n",
       "      <td>6.14</td>\n",
       "      <td>5.67</td>\n",
       "      <td>51.40</td>\n",
       "    </tr>\n",
       "    <tr>\n",
       "      <th>1876</th>\n",
       "      <td>11.63</td>\n",
       "      <td>2.92</td>\n",
       "      <td>6.01</td>\n",
       "      <td>4.5</td>\n",
       "      <td>1</td>\n",
       "      <td>6.52</td>\n",
       "      <td>3.61</td>\n",
       "      <td>4.29</td>\n",
       "      <td>2.66</td>\n",
       "      <td>7.61</td>\n",
       "      <td>1.63</td>\n",
       "      <td>1.24</td>\n",
       "      <td>46.01</td>\n",
       "    </tr>\n",
       "  </tbody>\n",
       "</table>\n",
       "</div>"
      ],
      "text/plain": [
       "        Jan   Feb   Mar   Apr   May   Jun    Jul   Aug   Sep   Oct   Nov  \\\n",
       "Year                                                                       \n",
       "1872      M     M     M     M     M     M      M  2.45  4.38  3.92  0.56   \n",
       "1873   2.93  5.42  3.39  3.05  5.73  2.84   3.43  3.04  2.47  3.26  2.19   \n",
       "1874   2.39  5.18  6.63  6.01  1.14  2.95   2.83  3.23  0.62  2.04  5.90   \n",
       "1875   2.42  2.09  4.54  0.98  4.07  5.79  16.46  2.19  1.05  1.92  6.14   \n",
       "1876  11.63  2.92  6.01   4.5     1  6.52   3.61  4.29  2.66  7.61  1.63   \n",
       "\n",
       "       Dec  Total  \n",
       "Year               \n",
       "1872  2.35   9.74  \n",
       "1873  6.99  41.48  \n",
       "1874  4.77  41.65  \n",
       "1875  5.67  51.40  \n",
       "1876  1.24  46.01  "
      ]
     },
     "execution_count": 767,
     "metadata": {},
     "output_type": "execute_result"
    }
   ],
   "source": [
    "lou_sum_query =\"\"\"\n",
    "                SELECT Year, Jan, Feb, Mar, Apr, May, Jun, Jul, Aug, Sep, Oct, Nov, Dec, SUM(Jan + Feb + Mar + Apr + May + Jun + Jul + Aug + Sep + Nov + Dec)  AS Total\n",
    "                FROM louisville_rain_table\n",
    "                GROUP BY Year\n",
    "                \"\"\"\n",
    "\n",
    "df_louisville = pd.read_sql_query(lou_sum_query, db_lou)\n",
    "df_louisville.set_index('Year', inplace = True)\n",
    "df_louisville.head()"
   ]
  },
  {
   "cell_type": "markdown",
   "metadata": {},
   "source": [
    "With our query exceuted and table converted back to a dataframe, there is at least one year, 1872 with \"M\" with amount of rainfall for that respective month. We will see if there are any other years that have months with missing rainfall data as these non-numeric values do not contribute to the total rainfall for the year. Instead of backfilling the months missing data, we will remove those rows so that years with incomplete data do not decrease the mean such as with 1872's 9.72in of total recorded rainfall. "
   ]
  },
  {
   "cell_type": "code",
   "execution_count": 768,
   "metadata": {},
   "outputs": [
    {
     "data": {
      "text/html": [
       "<div>\n",
       "<style scoped>\n",
       "    .dataframe tbody tr th:only-of-type {\n",
       "        vertical-align: middle;\n",
       "    }\n",
       "\n",
       "    .dataframe tbody tr th {\n",
       "        vertical-align: top;\n",
       "    }\n",
       "\n",
       "    .dataframe thead th {\n",
       "        text-align: right;\n",
       "    }\n",
       "</style>\n",
       "<table border=\"1\" class=\"dataframe\">\n",
       "  <thead>\n",
       "    <tr style=\"text-align: right;\">\n",
       "      <th></th>\n",
       "      <th>Jan</th>\n",
       "      <th>Feb</th>\n",
       "      <th>Mar</th>\n",
       "      <th>Apr</th>\n",
       "      <th>May</th>\n",
       "      <th>Jun</th>\n",
       "      <th>Jul</th>\n",
       "      <th>Aug</th>\n",
       "      <th>Sep</th>\n",
       "      <th>Oct</th>\n",
       "      <th>Nov</th>\n",
       "      <th>Dec</th>\n",
       "      <th>Total</th>\n",
       "    </tr>\n",
       "    <tr>\n",
       "      <th>Year</th>\n",
       "      <th></th>\n",
       "      <th></th>\n",
       "      <th></th>\n",
       "      <th></th>\n",
       "      <th></th>\n",
       "      <th></th>\n",
       "      <th></th>\n",
       "      <th></th>\n",
       "      <th></th>\n",
       "      <th></th>\n",
       "      <th></th>\n",
       "      <th></th>\n",
       "      <th></th>\n",
       "    </tr>\n",
       "  </thead>\n",
       "  <tbody>\n",
       "    <tr>\n",
       "      <th>1872</th>\n",
       "      <td>M</td>\n",
       "      <td>M</td>\n",
       "      <td>M</td>\n",
       "      <td>M</td>\n",
       "      <td>M</td>\n",
       "      <td>M</td>\n",
       "      <td>M</td>\n",
       "      <td>2.45</td>\n",
       "      <td>4.38</td>\n",
       "      <td>3.92</td>\n",
       "      <td>0.56</td>\n",
       "      <td>2.35</td>\n",
       "      <td>9.74</td>\n",
       "    </tr>\n",
       "    <tr>\n",
       "      <th>1946</th>\n",
       "      <td>M</td>\n",
       "      <td>6.17</td>\n",
       "      <td>4.9</td>\n",
       "      <td>2.39</td>\n",
       "      <td>5.11</td>\n",
       "      <td>4.75</td>\n",
       "      <td>3.11</td>\n",
       "      <td>4.26</td>\n",
       "      <td>1.34</td>\n",
       "      <td>2.16</td>\n",
       "      <td>4.33</td>\n",
       "      <td>2.94</td>\n",
       "      <td>39.30</td>\n",
       "    </tr>\n",
       "  </tbody>\n",
       "</table>\n",
       "</div>"
      ],
      "text/plain": [
       "     Jan   Feb  Mar   Apr   May   Jun   Jul   Aug   Sep   Oct   Nov   Dec  \\\n",
       "Year                                                                        \n",
       "1872   M     M    M     M     M     M     M  2.45  4.38  3.92  0.56  2.35   \n",
       "1946   M  6.17  4.9  2.39  5.11  4.75  3.11  4.26  1.34  2.16  4.33  2.94   \n",
       "\n",
       "      Total  \n",
       "Year         \n",
       "1872   9.74  \n",
       "1946  39.30  "
      ]
     },
     "execution_count": 768,
     "metadata": {},
     "output_type": "execute_result"
    }
   ],
   "source": [
    "#Find all instances of \"M\"\n",
    "df_louisville[df_louisville.eq(\"M\").any(1)]"
   ]
  },
  {
   "cell_type": "markdown",
   "metadata": {},
   "source": [
    "Since these \"M\"s are non-numeric and were not used to calculate total amount of rainfall for both 1872, we will check to see if they affect the datatype of each column since columns with non-numeric type would result in an error when calculating a sum or finding a maximum value. As well, we will soon need to decide what to do with these two years that have missing rainfall data."
   ]
  },
  {
   "cell_type": "code",
   "execution_count": 769,
   "metadata": {},
   "outputs": [
    {
     "data": {
      "text/plain": [
       "Jan       object\n",
       "Feb       object\n",
       "Mar       object\n",
       "Apr       object\n",
       "May       object\n",
       "Jun       object\n",
       "Jul       object\n",
       "Aug      float64\n",
       "Sep      float64\n",
       "Oct      float64\n",
       "Nov      float64\n",
       "Dec      float64\n",
       "Total    float64\n",
       "dtype: object"
      ]
     },
     "execution_count": 769,
     "metadata": {},
     "output_type": "execute_result"
    }
   ],
   "source": [
    "# Check datatype of each column in the dataframe.\n",
    "df_louisville.dtypes"
   ]
  },
  {
   "cell_type": "markdown",
   "metadata": {},
   "source": [
    "With Jan-Jul columns being objects, we will not be able to perform any mathmathical operations or even certain pandas methods on them. We will need to convert them to a numerical type. With the pd.to_numeric() method, all of the columns can be converted to a numeric datatype. In addition, this function can also convert any errors, such as those that will occur when it tries to parse \"M\", to NaN(Not a Number); this will be useful when deciding what to do with the data from 1872 and 1946."
   ]
  },
  {
   "cell_type": "code",
   "execution_count": 770,
   "metadata": {},
   "outputs": [
    {
     "data": {
      "text/plain": [
       "Jan      float32\n",
       "Feb      float32\n",
       "Mar      float32\n",
       "Apr      float32\n",
       "May      float32\n",
       "Jun      float32\n",
       "Jul      float32\n",
       "Aug      float32\n",
       "Sep      float32\n",
       "Oct      float32\n",
       "Nov      float32\n",
       "Dec      float32\n",
       "Total    float32\n",
       "dtype: object"
      ]
     },
     "execution_count": 770,
     "metadata": {},
     "output_type": "execute_result"
    }
   ],
   "source": [
    "#Cast all object columns to numeric datatype and cast all columns to float32 as the precision with float64 is not necessary.\n",
    "df_louisville = df_louisville.apply(pd.to_numeric, downcast =\"float\", errors=\"coerce\")\n",
    "#Check data types to confirm.\n",
    "df_louisville.dtypes"
   ]
  },
  {
   "cell_type": "code",
   "execution_count": 771,
   "metadata": {},
   "outputs": [
    {
     "data": {
      "text/html": [
       "<div>\n",
       "<style scoped>\n",
       "    .dataframe tbody tr th:only-of-type {\n",
       "        vertical-align: middle;\n",
       "    }\n",
       "\n",
       "    .dataframe tbody tr th {\n",
       "        vertical-align: top;\n",
       "    }\n",
       "\n",
       "    .dataframe thead th {\n",
       "        text-align: right;\n",
       "    }\n",
       "</style>\n",
       "<table border=\"1\" class=\"dataframe\">\n",
       "  <thead>\n",
       "    <tr style=\"text-align: right;\">\n",
       "      <th></th>\n",
       "      <th>Jan</th>\n",
       "      <th>Feb</th>\n",
       "      <th>Mar</th>\n",
       "      <th>Apr</th>\n",
       "      <th>May</th>\n",
       "      <th>Jun</th>\n",
       "      <th>Jul</th>\n",
       "      <th>Aug</th>\n",
       "      <th>Sep</th>\n",
       "      <th>Oct</th>\n",
       "      <th>Nov</th>\n",
       "      <th>Dec</th>\n",
       "      <th>Total</th>\n",
       "    </tr>\n",
       "    <tr>\n",
       "      <th>Year</th>\n",
       "      <th></th>\n",
       "      <th></th>\n",
       "      <th></th>\n",
       "      <th></th>\n",
       "      <th></th>\n",
       "      <th></th>\n",
       "      <th></th>\n",
       "      <th></th>\n",
       "      <th></th>\n",
       "      <th></th>\n",
       "      <th></th>\n",
       "      <th></th>\n",
       "      <th></th>\n",
       "    </tr>\n",
       "  </thead>\n",
       "  <tbody>\n",
       "    <tr>\n",
       "      <th>1872</th>\n",
       "      <td>NaN</td>\n",
       "      <td>NaN</td>\n",
       "      <td>NaN</td>\n",
       "      <td>NaN</td>\n",
       "      <td>NaN</td>\n",
       "      <td>NaN</td>\n",
       "      <td>NaN</td>\n",
       "      <td>2.45</td>\n",
       "      <td>4.38</td>\n",
       "      <td>3.92</td>\n",
       "      <td>0.56</td>\n",
       "      <td>2.35</td>\n",
       "      <td>9.740000</td>\n",
       "    </tr>\n",
       "    <tr>\n",
       "      <th>1873</th>\n",
       "      <td>2.93</td>\n",
       "      <td>5.42</td>\n",
       "      <td>3.39</td>\n",
       "      <td>3.05</td>\n",
       "      <td>5.73</td>\n",
       "      <td>2.84</td>\n",
       "      <td>3.430000</td>\n",
       "      <td>3.04</td>\n",
       "      <td>2.47</td>\n",
       "      <td>3.26</td>\n",
       "      <td>2.19</td>\n",
       "      <td>6.99</td>\n",
       "      <td>41.480000</td>\n",
       "    </tr>\n",
       "    <tr>\n",
       "      <th>1874</th>\n",
       "      <td>2.39</td>\n",
       "      <td>5.18</td>\n",
       "      <td>6.63</td>\n",
       "      <td>6.01</td>\n",
       "      <td>1.14</td>\n",
       "      <td>2.95</td>\n",
       "      <td>2.830000</td>\n",
       "      <td>3.23</td>\n",
       "      <td>0.62</td>\n",
       "      <td>2.04</td>\n",
       "      <td>5.90</td>\n",
       "      <td>4.77</td>\n",
       "      <td>41.650002</td>\n",
       "    </tr>\n",
       "    <tr>\n",
       "      <th>1875</th>\n",
       "      <td>2.42</td>\n",
       "      <td>2.09</td>\n",
       "      <td>4.54</td>\n",
       "      <td>0.98</td>\n",
       "      <td>4.07</td>\n",
       "      <td>5.79</td>\n",
       "      <td>16.459999</td>\n",
       "      <td>2.19</td>\n",
       "      <td>1.05</td>\n",
       "      <td>1.92</td>\n",
       "      <td>6.14</td>\n",
       "      <td>5.67</td>\n",
       "      <td>51.400002</td>\n",
       "    </tr>\n",
       "    <tr>\n",
       "      <th>1876</th>\n",
       "      <td>11.63</td>\n",
       "      <td>2.92</td>\n",
       "      <td>6.01</td>\n",
       "      <td>4.50</td>\n",
       "      <td>1.00</td>\n",
       "      <td>6.52</td>\n",
       "      <td>3.610000</td>\n",
       "      <td>4.29</td>\n",
       "      <td>2.66</td>\n",
       "      <td>7.61</td>\n",
       "      <td>1.63</td>\n",
       "      <td>1.24</td>\n",
       "      <td>46.009998</td>\n",
       "    </tr>\n",
       "  </tbody>\n",
       "</table>\n",
       "</div>"
      ],
      "text/plain": [
       "        Jan   Feb   Mar   Apr   May   Jun        Jul   Aug   Sep   Oct   Nov  \\\n",
       "Year                                                                           \n",
       "1872    NaN   NaN   NaN   NaN   NaN   NaN        NaN  2.45  4.38  3.92  0.56   \n",
       "1873   2.93  5.42  3.39  3.05  5.73  2.84   3.430000  3.04  2.47  3.26  2.19   \n",
       "1874   2.39  5.18  6.63  6.01  1.14  2.95   2.830000  3.23  0.62  2.04  5.90   \n",
       "1875   2.42  2.09  4.54  0.98  4.07  5.79  16.459999  2.19  1.05  1.92  6.14   \n",
       "1876  11.63  2.92  6.01  4.50  1.00  6.52   3.610000  4.29  2.66  7.61  1.63   \n",
       "\n",
       "       Dec      Total  \n",
       "Year                   \n",
       "1872  2.35   9.740000  \n",
       "1873  6.99  41.480000  \n",
       "1874  4.77  41.650002  \n",
       "1875  5.67  51.400002  \n",
       "1876  1.24  46.009998  "
      ]
     },
     "execution_count": 771,
     "metadata": {},
     "output_type": "execute_result"
    }
   ],
   "source": [
    "#Display the head of the table to confirm \"M\" was converted to NaN\n",
    "df_louisville.head()"
   ]
  },
  {
   "cell_type": "markdown",
   "metadata": {},
   "source": [
    "We proceed with cleaning up the data. With both 1872 and 1946 missing monthly rainfall totals, we will omit all of 1872's and 1946's data since keeping this data would skew the mean of the yearly rainfall lower and could possibly cause the 2018 total rainfall appear more extreme than it really is. There will still be enough data to answer the question of 2018 being an extreme year in rainfall. To omit 1872 and 1946's rows from the dataframe, the pd.dropna() method will be used as it will find any instances of a NaN and drop the row or column where this occurs(in this case, rows.) In addition, we will obtain the sum of all columns as we can compare 2018's total rainfall against the mean total rainfall."
   ]
  },
  {
   "cell_type": "code",
   "execution_count": 772,
   "metadata": {},
   "outputs": [
    {
     "data": {
      "text/html": [
       "<div>\n",
       "<style scoped>\n",
       "    .dataframe tbody tr th:only-of-type {\n",
       "        vertical-align: middle;\n",
       "    }\n",
       "\n",
       "    .dataframe tbody tr th {\n",
       "        vertical-align: top;\n",
       "    }\n",
       "\n",
       "    .dataframe thead th {\n",
       "        text-align: right;\n",
       "    }\n",
       "</style>\n",
       "<table border=\"1\" class=\"dataframe\">\n",
       "  <thead>\n",
       "    <tr style=\"text-align: right;\">\n",
       "      <th></th>\n",
       "      <th>Jan</th>\n",
       "      <th>Feb</th>\n",
       "      <th>Mar</th>\n",
       "      <th>Apr</th>\n",
       "      <th>May</th>\n",
       "      <th>Jun</th>\n",
       "      <th>Jul</th>\n",
       "      <th>Aug</th>\n",
       "      <th>Sep</th>\n",
       "      <th>Oct</th>\n",
       "      <th>Nov</th>\n",
       "      <th>Dec</th>\n",
       "      <th>Total</th>\n",
       "    </tr>\n",
       "    <tr>\n",
       "      <th>Year</th>\n",
       "      <th></th>\n",
       "      <th></th>\n",
       "      <th></th>\n",
       "      <th></th>\n",
       "      <th></th>\n",
       "      <th></th>\n",
       "      <th></th>\n",
       "      <th></th>\n",
       "      <th></th>\n",
       "      <th></th>\n",
       "      <th></th>\n",
       "      <th></th>\n",
       "      <th></th>\n",
       "    </tr>\n",
       "  </thead>\n",
       "  <tbody>\n",
       "    <tr>\n",
       "      <th>2015</th>\n",
       "      <td>0.870000</td>\n",
       "      <td>2.230000</td>\n",
       "      <td>7.800000</td>\n",
       "      <td>10.840000</td>\n",
       "      <td>2.380000</td>\n",
       "      <td>6.820000</td>\n",
       "      <td>8.650000</td>\n",
       "      <td>3.470000</td>\n",
       "      <td>2.450000</td>\n",
       "      <td>4.850000</td>\n",
       "      <td>5.470</td>\n",
       "      <td>6.580000</td>\n",
       "      <td>57.560001</td>\n",
       "    </tr>\n",
       "    <tr>\n",
       "      <th>2016</th>\n",
       "      <td>1.010000</td>\n",
       "      <td>4.810000</td>\n",
       "      <td>5.500000</td>\n",
       "      <td>3.180000</td>\n",
       "      <td>4.560000</td>\n",
       "      <td>4.250000</td>\n",
       "      <td>4.650000</td>\n",
       "      <td>5.710000</td>\n",
       "      <td>2.280000</td>\n",
       "      <td>0.650000</td>\n",
       "      <td>1.650</td>\n",
       "      <td>5.300000</td>\n",
       "      <td>42.900002</td>\n",
       "    </tr>\n",
       "    <tr>\n",
       "      <th>2017</th>\n",
       "      <td>4.210000</td>\n",
       "      <td>2.060000</td>\n",
       "      <td>3.680000</td>\n",
       "      <td>4.470000</td>\n",
       "      <td>4.740000</td>\n",
       "      <td>3.260000</td>\n",
       "      <td>2.790000</td>\n",
       "      <td>4.200000</td>\n",
       "      <td>5.470000</td>\n",
       "      <td>4.890000</td>\n",
       "      <td>2.060</td>\n",
       "      <td>2.730000</td>\n",
       "      <td>39.669998</td>\n",
       "    </tr>\n",
       "    <tr>\n",
       "      <th>2018</th>\n",
       "      <td>1.760000</td>\n",
       "      <td>10.540000</td>\n",
       "      <td>5.050000</td>\n",
       "      <td>3.400000</td>\n",
       "      <td>4.980000</td>\n",
       "      <td>6.380000</td>\n",
       "      <td>5.130000</td>\n",
       "      <td>7.230000</td>\n",
       "      <td>10.910000</td>\n",
       "      <td>2.790000</td>\n",
       "      <td>4.760</td>\n",
       "      <td>5.900000</td>\n",
       "      <td>66.040001</td>\n",
       "    </tr>\n",
       "    <tr>\n",
       "      <th>Mean</th>\n",
       "      <td>3.723724</td>\n",
       "      <td>3.371448</td>\n",
       "      <td>4.574482</td>\n",
       "      <td>4.129103</td>\n",
       "      <td>4.264689</td>\n",
       "      <td>3.930138</td>\n",
       "      <td>3.910344</td>\n",
       "      <td>3.359104</td>\n",
       "      <td>2.997242</td>\n",
       "      <td>2.826552</td>\n",
       "      <td>3.522</td>\n",
       "      <td>3.764207</td>\n",
       "      <td>41.546482</td>\n",
       "    </tr>\n",
       "  </tbody>\n",
       "</table>\n",
       "</div>"
      ],
      "text/plain": [
       "           Jan        Feb       Mar        Apr       May       Jun       Jul  \\\n",
       "Year                                                                           \n",
       "2015  0.870000   2.230000  7.800000  10.840000  2.380000  6.820000  8.650000   \n",
       "2016  1.010000   4.810000  5.500000   3.180000  4.560000  4.250000  4.650000   \n",
       "2017  4.210000   2.060000  3.680000   4.470000  4.740000  3.260000  2.790000   \n",
       "2018  1.760000  10.540000  5.050000   3.400000  4.980000  6.380000  5.130000   \n",
       "Mean  3.723724   3.371448  4.574482   4.129103  4.264689  3.930138  3.910344   \n",
       "\n",
       "           Aug        Sep       Oct    Nov       Dec      Total  \n",
       "Year                                                             \n",
       "2015  3.470000   2.450000  4.850000  5.470  6.580000  57.560001  \n",
       "2016  5.710000   2.280000  0.650000  1.650  5.300000  42.900002  \n",
       "2017  4.200000   5.470000  4.890000  2.060  2.730000  39.669998  \n",
       "2018  7.230000  10.910000  2.790000  4.760  5.900000  66.040001  \n",
       "Mean  3.359104   2.997242  2.826552  3.522  3.764207  41.546482  "
      ]
     },
     "execution_count": 772,
     "metadata": {},
     "output_type": "execute_result"
    }
   ],
   "source": [
    "#Drop columns\n",
    "df_louisville.dropna(axis = 'rows', how ='any', inplace = True)\n",
    "#Get the mean of all of the columns\n",
    "df_louisville.loc['Mean'] = df_louisville.mean(axis =0)\n",
    "#Display the tail which will include the mean yearly rainfall and the total rainfall for 2018.\n",
    "df_louisville.tail()"
   ]
  },
  {
   "cell_type": "markdown",
   "metadata": {},
   "source": [
    "Now that the data has been cleaned up, we can move to our analysis to determine if Louisville's 2018 rainfall was extreme. To answer this question, several different methods will be used to determine if 2018's rainfall is truely an outlier. Firstly, let's graphically look at 2018's total rainfall against the average rainfall. This will be plotted to a column chart."
   ]
  },
  {
   "cell_type": "code",
   "execution_count": 773,
   "metadata": {},
   "outputs": [
    {
     "data": {
      "image/png": "[encoded data removed]",
      "text/plain": [
       "<Figure size 640x480 with 1 Axes>"
      ]
     },
     "metadata": {},
     "output_type": "display_data"
    }
   ],
   "source": [
    "#Assign the 2018's total rainfall and the average yearly rainfall to variables \n",
    "#to be used in a column graph and other calculations\n",
    "louisvilleTotalRainFall2018 = df_louisville.loc[2018, 'Total']\n",
    "louisvilleTotalRainFallMean = df_louisville.loc['Mean', 'Total']\n",
    "\n",
    "#Plot the average  rainfall against the 2018 rainfall\n",
    "objects = (\"Average\", \"2018\")\n",
    "color = [\"blue\", \"red\"]\n",
    "plt.bar(objects,[louisvilleTotalRainFallMean, louisvilleTotalRainFall2018], color = color, align = \"center\")\n",
    "plt.title(\"Louisville 2018 Total Rainfall vs Average Rainfall\")\n",
    "plt.ylabel(\"Rain (in)\")\n",
    "plt.show()"
   ]
  },
  {
   "cell_type": "markdown",
   "metadata": {},
   "source": [
    "Graphically, Louisville's rainfall appears significantly greater than the average rainfall in Louisville. We can determine the difference from the mean for a concrete value by subtracting the mean from the total rainfall for 2018."
   ]
  },
  {
   "cell_type": "code",
   "execution_count": 774,
   "metadata": {},
   "outputs": [
    {
     "data": {
      "text/plain": [
       "24.493519"
      ]
     },
     "execution_count": 774,
     "metadata": {},
     "output_type": "execute_result"
    }
   ],
   "source": [
    "louisville2018RainFallDifference = (louisvilleTotalRainFall2018 - louisvilleTotalRainFallMean)\n",
    "louisville2018RainFallDifference"
   ]
  },
  {
   "cell_type": "markdown",
   "metadata": {},
   "source": [
    "The total rainfall for Louisville in 2018 was 24.49 inches above average. This certainly sounds very large, but we can graphically compare 2018's against all other years to get a better idea if there are a large number of similar years."
   ]
  },
  {
   "cell_type": "code",
   "execution_count": 775,
   "metadata": {},
   "outputs": [
    {
     "data": {
      "image/png": "[encoded data removed]",
      "text/plain": [
       "<Figure size 640x480 with 1 Axes>"
      ]
     },
     "metadata": {},
     "output_type": "display_data"
    }
   ],
   "source": [
    "#Assign the 'Total' column to a variable and exclude the final value, the mean total rainfall.\n",
    "louisvilleTotalRainFallSeries = (df_louisville['Total'][0:-1])\n",
    "years = []\n",
    "differences = []\n",
    "#Loop through a slice louisvilleTotalRainfallSeries to exclude the mean and add each year to its the years list,  \n",
    "# calculate the difference from the meanm and add the difference its list.\n",
    "for i, r in louisvilleTotalRainFallSeries.items():\n",
    "    years.append(i)\n",
    "    differences.append(r-louisvilleTotalRainFallMean)\n",
    "    \n",
    "#Plot the differences    \n",
    "plt.scatter(years, differences)\n",
    "#Highlight the 2018 difference by plotting it to the scatterplot in red.\n",
    "plt.scatter(years[-1], differences[-1], color = \"red\")\n",
    "plt.xlabel(\"Year\")\n",
    "plt.ylabel(\"Difference(in of Rain)\")\n",
    "plt.title(\"Yearly Differences of Louisville Rainfall\")\n",
    "plt.show()"
   ]
  },
  {
   "cell_type": "markdown",
   "metadata": {},
   "source": [
    "In the plot above, 2018's rainfall, indicated in red, is the has the greatest difference from the mean. However, this is already a known since 2018 has the greatest amount of recorded total rainfall. As well, there is another year that had nearly as much rainfall as 2018. Since there is another datapoint that lies near 2018's total rainfall amount, it is totally possible that 2018 is not as exceptional as it seems. To determine if 2018 was truely an extreme or exceptional year, we will check to see if 2018 is a statisical outlier with the following 2 basic methods: [Tukey's Fences](https://en.wikipedia.org/wiki/Outlier#Tukey's_fences), and [Z-score](https://www.ctspedia.org/do/view/CTSpedia/OutLier).\n",
    "\n",
    "Firstly, we will plot a box plot, since a boxplot uses Tukey's Fences to indicate outliers, as well as 2018's total rainfall to check if 2018's total rainfall is a statistical outlier. "
   ]
  },
  {
   "cell_type": "code",
   "execution_count": 776,
   "metadata": {},
   "outputs": [
    {
     "data": {
      "image/png": "[encoded data removed]",
      "text/plain": [
       "<Figure size 640x480 with 1 Axes>"
      ]
     },
     "metadata": {},
     "output_type": "display_data"
    }
   ],
   "source": [
    "#Boxplot\n",
    "plt.boxplot(louisvilleTotalRainFallSeries, vert = False)\n",
    "#Plot 2018's total rainfall on the boxplot\n",
    "plt.plot(louisvilleTotalRainFall2018, 1,  marker = 'v', c='purple', markersize = 10)\n",
    "plt.title(\"Louisville Total Rainfall\", fontsize = 14)\n",
    "plt.yticks([1], [\"Total Rainfall\"])\n",
    "plt.xlabel(\"Rainfall (in)\", fontsize = 10)\n",
    "plt.show()"
   ]
  },
  {
   "cell_type": "markdown",
   "metadata": {},
   "source": [
    "On the boxplot, it indicates that 2018's total rainfall is an outlier indicated by the inverted purple triangle. In the cell below, the calculation for Tukey's Fences is displayed and tested for 2018's total rainfall. A result of \"True\" indicates that this value is an outlier. "
   ]
  },
  {
   "cell_type": "code",
   "execution_count": 777,
   "metadata": {},
   "outputs": [
    {
     "data": {
      "text/plain": [
       "True"
      ]
     },
     "execution_count": 777,
     "metadata": {},
     "output_type": "execute_result"
    }
   ],
   "source": [
    "#Obtain values for the 25th quartile and 75th quartile\n",
    "q75Lou,  q25Lou = np.percentile(louisvilleTotalRainFallSeries[0:-1], [75, 25])\n",
    "#Calculate interquartile range\n",
    "iqrLouisville = q75Lou - q25Lou\n",
    "#Test if 2018 total rainfall is greater than the 75th quartile plus 1.5 times the interquartile range\n",
    "louisvilleTotalRainFall2018 > (q75Lou + 1.5*iqrLouisville)"
   ]
  },
  {
   "cell_type": "markdown",
   "metadata": {},
   "source": [
    "Another way to determine an outlier is to calculate the Z-score. If the Z-score for a data point is >3 or <-3 (it can be argued that this is an arbitrary number), then it is an outlier."
   ]
  },
  {
   "cell_type": "code",
   "execution_count": 778,
   "metadata": {},
   "outputs": [
    {
     "name": "stdout",
     "output_type": "stream",
     "text": [
      "3.1035029355408086\n"
     ]
    }
   ],
   "source": [
    "#Get standard deviation\n",
    "louMeanStdDev = statistics.stdev(louisvilleTotalRainFallSeries)\n",
    "#Divide the difference from the mean for 2018 total rainfall by the standard deviation\n",
    "zScoreLou=louisville2018RainFallDifference/louMeanStdDev\n",
    "print(zScoreLou)"
   ]
  },
  {
   "cell_type": "markdown",
   "metadata": {},
   "source": [
    "Since the Z-score is greater than 3, 2018's total rainfall is identified as an outlier by a second method. \n",
    "\n",
    "As well, the Z-score can be used to calculate the probability[p-value](https://en.wikipedia.org/wiki/P-value) that a value greater than the datapoint would occur. Multiplying the p-value by 100 will result in an percentage."
   ]
  },
  {
   "cell_type": "code",
   "execution_count": 779,
   "metadata": {},
   "outputs": [
    {
     "name": "stdout",
     "output_type": "stream",
     "text": [
      "0.0009562216883818309\n"
     ]
    }
   ],
   "source": [
    "#Calulate p-value\n",
    "p_value = 1 - scipy.special.ndtr(zScoreLou)\n",
    "#Multply by 100 to obtain a percentage\n",
    "print(p_value)"
   ]
  },
  {
   "cell_type": "markdown",
   "metadata": {},
   "source": [
    "The probabilty for a year to exceed 2018's total rainfall is only 0.09%(9 out of 10,000 years). This certainly reinforces that 2018's record rainfall would be an extremely rare event based on history."
   ]
  },
  {
   "cell_type": "code",
   "execution_count": 780,
   "metadata": {},
   "outputs": [
    {
     "data": {
      "image/png": "[encoded data removed]",
      "text/plain": [
       "<Figure size 640x480 with 2 Axes>"
      ]
     },
     "metadata": {},
     "output_type": "display_data"
    }
   ],
   "source": [
    "plt.subplot(2, 1, 1)\n",
    "plt.hist(louisvilleTotalRainFallSeries, 'auto', density = 'True')\n",
    "plt.title(\"Distribution of Louisville Rainfall Totals with Bell Curve\", fontsize = 14)\n",
    "plt.xlabel(\"Rainfall (in)\", fontsize = 10)\n",
    "plt.ylabel(\"Probability\", fontsize = 10)\n",
    "\n",
    "#Plot probability Distrobution function\n",
    "mu, std = norm.fit(louisvilleTotalRainFallList)\n",
    "\n",
    "xmin, xmax = plt.xlim()\n",
    "x = np.linspace(xmin, xmax, 100)\n",
    "p = norm.pdf(x, mu, std)\n",
    "plt.plot(x, p, 'k', linewidth=2)\n",
    "#Plot 2018 probability\n",
    "plt.plot(louisvilleTotalRainFall2018, p_value, marker = 'o', markersize = 10)\n",
    "\n",
    "plt.subplot(2,1,2)\n",
    "plt.hist(louisvilleTotalRainFallSeries, 'auto', density=True)\n",
    "plt.title(\"Distribution of Louisville Rainfall Totals\", fontsize = 14)\n",
    "plt.xlabel(\"Rainfall (in)\", fontsize = 10)\n",
    "plt.ylabel(\"Frequency\", fontsize = 10)\n",
    "\n",
    "plt.tight_layout()\n",
    "plt.show()"
   ]
  },
  {
   "cell_type": "code",
   "execution_count": null,
   "metadata": {},
   "outputs": [],
   "source": []
  }
 ],
 "metadata": {
  "kernelspec": {
   "display_name": "Python 3",
   "language": "python",
   "name": "python3"
  },
  "language_info": {
   "codemirror_mode": {
    "name": "ipython",
    "version": 3
   },
   "file_extension": ".py",
   "mimetype": "text/x-python",
   "name": "python",
   "nbconvert_exporter": "python",
   "pygments_lexer": "ipython3",
   "version": "3.7.1"
  }
 },
 "nbformat": 4,
 "nbformat_minor": 2
}
